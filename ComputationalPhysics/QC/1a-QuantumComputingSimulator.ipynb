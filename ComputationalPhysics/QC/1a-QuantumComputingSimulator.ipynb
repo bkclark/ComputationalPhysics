{
 "cells": [
  {
   "cell_type": "markdown",
   "metadata": {},
   "source": [
    "#  QC Simulators\n"
   ]
  },
  {
   "cell_type": "markdown",
   "metadata": {},
   "source": [
    "## References\n",
    "\n",
    "*    \"Quantum Computation and Quantum Information\" by Nielsen and Chuang. The first two chapters provide a detailed and self-contained introduction and explanation of qubits and quantum gates.\n",
    "*    [Lecture notes](http://www-inst.eecs.berkeley.edu/~cs191/sp12/) for the course \"Qubits, quantum mechanics, and computers\" from Umesh Vazirani at Berkeley.\n",
    "*    [Lecture notes](http://www.theory.caltech.edu/people/preskill/ph229/) from John Preskill at Caltech.\n",
    "*    Lecture notes from Ryan O'Donnell} and John Wright at CMU. [First](https://www.cs.cmu.edu/~odonnell/quantum15/lecture01.pdf) and [second](https://www.cs.cmu.edu/~odonnell/quantum15/lecture02.pdf) lectures cover basic quantum mechanics and quantum gates.\n",
    "*    [Wikipedia article](https://en.wikipedia.org/wiki/Qubit) on qubits.\n",
    "*    [Wikipedia article](https://en.wikipedia.org/wiki/Quantum_gate) on quantum gates.\n",
    "\n",
    "\n",
    "---"
   ]
  },
  {
   "cell_type": "markdown",
   "metadata": {},
   "source": [
    "## Gates"
   ]
  },
  {
   "cell_type": "markdown",
   "metadata": {},
   "source": [
    "In the previous section, we learned about how to represent a quantum state on a set of wires.  In this section, we are going to learn about quantum gates and quantum circuits (which are composed of multiple quantum gates).\n",
    "\n",
    "A quantum gate (or quantum circuit) transforms a quantum state to another quantum state.\n",
    "\n",
    "We will build two different brands of simulators. \n",
    "\n",
    "* Our first simulator (Simulator S) will directly view gates as transforming quantum state to quantum states. \n",
    "\n",
    "* Our second simulator (Simulator M) will instead view gates (and circuits) as representing (unitary) matrices. These matrices will then multiply the state vector and convert it to another state vector.  \n",
    "\n",
    "Of course, these are two different ways of viewing the same thing (but will result in different simulators).  \n",
    "\n",
    "Both of our simulator brands are going to (primarily) use three different gates.  Below each gate, we include some information about them for later reference - you'll understand how this information is useful later.  \n",
    "\n",
    "---\n",
    "\n",
    "* The Hadamard Gate:  **H**\n",
    "\n",
    "![](images/H1.png)\n",
    "\n",
    "\n",
    "$$\n",
    "|0\\rangle \\rightarrow \\frac{1}{\\sqrt{2}}(|0\\rangle + |1\\rangle)\n",
    "$$\n",
    "$$\n",
    "|1\\rangle \\rightarrow \\frac{1}{\\sqrt{2}}(|0\\rangle - |1\\rangle)\n",
    "$$\n",
    "\n",
    "$$H=\\frac{1}{\\sqrt{2}}\\left[\n",
    "  \\begin{bmatrix}\n",
    "    1 & 1 \\\\\n",
    "    1 & -1\n",
    "  \\end{bmatrix}\n",
    "  \\right]$$\n",
    "\n",
    "\n",
    "---\n",
    "\n",
    "* The Phase Gate (which takes an angle $\\theta$): **P($\\theta$)**\n",
    "\n",
    "![](images/p1.png)\n",
    "\n",
    "\n",
    "$$\n",
    "\\begin{equation}\n",
    "|0\\rangle \\rightarrow |0\\rangle \\\\\\\\\n",
    "|1\\rangle \\rightarrow e^{i\\theta}|1\\rangle\n",
    "\\end{equation}\n",
    "$$\n",
    "\n",
    "\n",
    "$$\n",
    "P=\\left[\n",
    "  \\begin{bmatrix}\n",
    "    1 & 0 \\\\\n",
    "    0 & e^{i\\theta}\n",
    "  \\end{bmatrix}\n",
    "\\right]\n",
    "$$\n",
    "\n",
    "---\n",
    "\n",
    "\n",
    "* The CNOT Gate which spans two wires: CNOT \n",
    "\n",
    "![](images/CNOT1.png)\n",
    "\n",
    "\n",
    "$$\n",
    "\\begin{eqnarray}\n",
    "|00\\rangle \\rightarrow |00\\rangle \\\\\n",
    "|01\\rangle \\rightarrow |01\\rangle \\\\\n",
    "|10\\rangle \\rightarrow |11\\rangle \\\\\n",
    "|11\\rangle \\rightarrow |10\\rangle\n",
    "\\end{eqnarray}\n",
    "$$\n",
    "\n",
    "\n",
    "$$\n",
    "H=\\left[\n",
    "  \\begin{bmatrix}\n",
    "    1 & 0 & 0 & 0  \\\\\n",
    "    0 & 1 & 0 & 0 \\\\\n",
    "    0 & 0 & 0 & 1\\\\\n",
    "    0 & 0 & 1 & 0\\\\\n",
    "  \\end{bmatrix}\n",
    "\\right]\n",
    "$$\n",
    "\n",
    "\n",
    "\n",
    "---\n",
    "\n",
    "\n",
    "This set of gates is universal.  This means that any quantum circuit which can be implemented using any gates can also be implemented using this set of gates.  (An equivalent statement is to say that any unitary matrix can be represented by a circuit made of these gates) In addition, there are no other set of (reasonable) gates which are significantly faster then this particular set of gates.  Here reasonable means any set of one or two (or fixed k) qubit gates. \n",
    "\n"
   ]
  },
  {
   "cell_type": "markdown",
   "metadata": {},
   "source": [
    "--- \n",
    "---"
   ]
  },
  {
   "cell_type": "markdown",
   "metadata": {},
   "source": [
    "## Circuits"
   ]
  },
  {
   "cell_type": "markdown",
   "metadata": {},
   "source": [
    "Gates are going to be combined together into a quantum circuit.  \n",
    "\n",
    "Here is an image of a quantum circuit.  \n",
    "![](images/circuit1.png)\n",
    "\n",
    "A text description of that circuit can be represented in the following way:\n",
    "\n",
    "```\n",
    "3\n",
    "H 1\n",
    "H 2\n",
    "P 2 0.3\n",
    "CNOT 2 1\n",
    "H 1\n",
    "H 2\n",
    "CNOT 2 0\n",
    "```\n",
    "\n",
    "\n",
    "This first line says that you have a circuit with 3 wires.  The next lines tell you exactly what the circuit is doing.   There is a Hadamard gate on wire 1 and 2, a phase gate on wire 2 with angle $\\theta=0.3$ radians, a CNOT gate between wires 2 and 1, then another two Hadamards and another CNOT. The fact  that the CNOT says “2 0” means that the 2 is the control wire.  \n",
    "\n",
    "\n",
    "\n",
    ":::{admonition} Convention\n",
    ":class: tip\n",
    "\n",
    "There is a convention about whether wire \"0\" (top wire) affects the most significant bit or the least significant bit.  You should use the convention that it affects the most significant (leftmost) bit!\n",
    "\n",
    ":::\n",
    "\n",
    "\n",
    "\n",
    "**Input:**  By default the input of your quantum computing simulator will be $|00..00\\rangle$.  Later on you will add a feature that lets you input another state (this will be useful for debugging). *(Q: What is the vector which corresponds to the state $|000\\rangle$?)*\n",
    "\n",
    "This particular circuit should output\n",
    "\n",
    "$$\n",
    "(0.977668244563+0.147760103331j)|000 \\rangle + (0.0223317554372-0.147760103331j)|101 \\rangle\n",
    "$$\n",
    "\n",
    "\n",
    "Our goal now will be to write simulator(s) which take input states to output states.  Later on, we will incorporate some additional tools to our simulators including **measurement** and **arbitrary input**. \n"
   ]
  },
  {
   "cell_type": "code",
   "execution_count": null,
   "metadata": {},
   "outputs": [],
   "source": []
  }
 ],
 "metadata": {
  "kernelspec": {
   "display_name": "Python 3.9.6 64-bit",
   "language": "python",
   "name": "python3"
  },
  "language_info": {
   "codemirror_mode": {
    "name": "ipython",
    "version": 3
   },
   "file_extension": ".py",
   "mimetype": "text/x-python",
   "name": "python",
   "nbconvert_exporter": "python",
   "pygments_lexer": "ipython3",
   "version": "3.9.6"
  },
  "varInspector": {
   "cols": {
    "lenName": 16,
    "lenType": 16,
    "lenVar": 40
   },
   "kernels_config": {
    "python": {
     "delete_cmd_postfix": "",
     "delete_cmd_prefix": "del ",
     "library": "var_list.py",
     "varRefreshCmd": "print(var_dic_list())"
    },
    "r": {
     "delete_cmd_postfix": ") ",
     "delete_cmd_prefix": "rm(",
     "library": "var_list.r",
     "varRefreshCmd": "cat(var_dic_list()) "
    }
   },
   "types_to_exclude": [
    "module",
    "function",
    "builtin_function_or_method",
    "instance",
    "_Feature"
   ],
   "window_display": false
  },
  "vscode": {
   "interpreter": {
    "hash": "31f2aee4e71d21fbe5cf8b01ff0e069b9275f58929596ceb00d14d90e3e16cd6"
   }
  }
 },
 "nbformat": 4,
 "nbformat_minor": 4
}
