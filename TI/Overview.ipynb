{
 "cells": [
  {
   "cell_type": "markdown",
   "metadata": {},
   "source": [
    "# Overview\n",
    "\n",
    "In this section we will learn about condensed matter.\n",
    "[Link to Template](https://docs.google.com/document/d/1PKZM4Ys99Xc3adink2st62oXQetwSMNkqSSRQPbwMAE/edit?usp=sharing)\n",
    "\n",
    "* [Understanding Lattices](Lattice)\n",
    "* [Tight Binding Models](TightBinding)\n",
    "* [Topological Insulators](ChernInsulators)"
   ]
  },
  {
   "cell_type": "code",
   "execution_count": null,
   "metadata": {},
   "outputs": [],
   "source": []
  }
 ],
 "metadata": {
  "kernelspec": {
   "display_name": "Python 3",
   "language": "python",
   "name": "python3"
  },
  "language_info": {
   "codemirror_mode": {
    "name": "ipython",
    "version": 3
   },
   "file_extension": ".py",
   "mimetype": "text/x-python",
   "name": "python",
   "nbconvert_exporter": "python",
   "pygments_lexer": "ipython3",
   "version": "3.8.3"
  }
 },
 "nbformat": 4,
 "nbformat_minor": 4
}
