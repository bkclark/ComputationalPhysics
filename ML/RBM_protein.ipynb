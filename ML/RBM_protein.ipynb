{
 "cells": [
  {
   "cell_type": "markdown",
   "metadata": {},
   "source": [
    "# Training your RBM on sequences of Protein\n"
   ]
  },
  {
   "cell_type": "markdown",
   "metadata": {},
   "source": [
    "We would like you to train your RBM on a sequence of proteins across a large number of creatures.  This closely follows this paper by Francesco Zamponi.\n",
    "\n",
    "The protein sequences you are given are strings of 20 amino acids (plus a - to indicate no protein).\n",
    "\n",
    "To get the data, use the following code:\n",
    "\n",
    "```\n",
    "!pip install bio\n",
    "import pylab as plt\n",
    "import random\n",
    "from Bio import SeqIO\n",
    "import numpy as np\n",
    "import time\n",
    "get_bin = lambda x, n: format(x, 'b').zfill(n)\n",
    "\n",
    "p=dict()\n",
    "count=0\n",
    "input_file='PF00014_mgap6.fasta'\n",
    "fasta_sequences = SeqIO.parse(open(input_file),'fasta')\n",
    "for fasta in fasta_sequences:\n",
    "    name, sequence = fasta.id, str(fasta.seq)\n",
    "    for s in sequence:\n",
    "        if s not in p.keys():\n",
    "            p[s]=[0 if k=='0' else 1 for k in get_bin(count,5)]\n",
    "            count=count+1\n",
    "            \n",
    "def SeqToIsing(sequence):\n",
    "    visible=[]\n",
    "    for s in sequence:\n",
    "        visible=visible+p[s]\n",
    "    return np.array(visible)\n",
    "\n",
    "input_file='PF00014_mgap6.fasta'\n",
    "fasta_sequences = list(SeqIO.parse(open(input_file),'fasta'))\n",
    "\n",
    "sequences=[]\n",
    "for seq in fasta_sequences:\n",
    "    sequences.append(SeqToIsing(seq))\n",
    "sequences=np.array(sequences)\n",
    "```\n",
    "\n",
    "This will convert the 21 symbols into binary numbers. \n",
    "\n",
    "Please train your RBM on these sequences. **Note:** You can do this with your standard RBM.  In practice it will work \"ok\" but really what you want to do for it to work best is to not do an Ising model (with an up or down spin) but do a model where each site has 21 different spins.  This is called a Potts model.  You don't have to do this, but if you do and make it work correctly, you get an **extra 10 points (so 20 total points of extra credit for this section)**.  \n",
    "\n"
   ]
  },
  {
   "cell_type": "markdown",
   "metadata": {},
   "source": [
    "## Analyze your results"
   ]
  },
  {
   "cell_type": "markdown",
   "metadata": {},
   "source": [
    "* Plot the free energy as a function of epoch\n",
    "\n",
    "* Produce 10 sequences that are 1 Gibbs sample away from already existing sequences.  See if those sequences seem reasonable.  In the real world, what we would do is take these sequences and try to produce them. \n",
    "\n",
    "* Produce many many sequences and compare the probability of seeing a given amino acid on site 3 with the histogram of that probability in your dataset.\n"
   ]
  },
  {
   "cell_type": "code",
   "execution_count": null,
   "metadata": {},
   "outputs": [],
   "source": []
  }
 ],
 "metadata": {
  "kernelspec": {
   "display_name": "Python 3",
   "language": "python",
   "name": "python3"
  },
  "language_info": {
   "codemirror_mode": {
    "name": "ipython",
    "version": 3
   },
   "file_extension": ".py",
   "mimetype": "text/x-python",
   "name": "python",
   "nbconvert_exporter": "python",
   "pygments_lexer": "ipython3",
   "version": "3.8.3"
  }
 },
 "nbformat": 4,
 "nbformat_minor": 4
}
