{
 "cells": [
  {
   "cell_type": "markdown",
   "metadata": {},
   "source": [
    "# Shor's Algorithm"
   ]
  },
  {
   "cell_type": "markdown",
   "metadata": {},
   "source": [
    "We are now going to work up to implementing Shor's algorithm to factor numbers. \n",
    "\n",
    "These three points will correspond to the next three pages you work on.  This summarizes what you will be doing and will be useful reference later but the details won't make sense yet. "
   ]
  },
  {
   "cell_type": "markdown",
   "metadata": {},
   "source": [
    "**Classical Scaffolding:** First, we are going to implement the classical scaffolding for Shor's algorithm.  \n",
    "\n",
    "There will be a slow step in this process. In particular, you are going to need to find a number $r$ such that\n",
    "$ x^r = 1\\mod N$.\n",
    "\n",
    "In the classical scaffolding you will implement this slow part slowly.  In particular you will write a python function that just check each $r$ and returns the correct one.\n"
   ]
  },
  {
   "cell_type": "markdown",
   "metadata": {},
   "source": [
    "**Quantum Matrix:**  Second, you are going to replace the slow python function for finding $r$ (with another slow function).  This is an intermediate step and involves \"quantum\" but no quantum circuits or computing yet.  To find $r$, you will first build the unitary matrix $U$ which implements the gate $xy \\mod N$. Then you will compute the eigenvalues (`np.linalg.eig`) of this matrix, determine their phase (`np.angle(e)/(2*np.pi)`) and use a continuing fraction algorithm (`Fraction`) to extract the $r$ from $s/r$.\n"
   ]
  },
  {
   "cell_type": "markdown",
   "metadata": {},
   "source": [
    "**Quantum Circuit:** Finally, you are going to replace the function which computes $r$ from the phase of the eigenvalues of the $xy \\mod N$ matrix by a quantum circuit which outputs the phase of the eigenvalues of the $xy \\mod N$ matrix.  This function will be slow but only because you are emulating a quantum computer on a classical computer.  If you actually had a real quantum computer it would be quick."
   ]
  },
  {
   "cell_type": "code",
   "execution_count": null,
   "metadata": {},
   "outputs": [],
   "source": []
  }
 ],
 "metadata": {
  "kernelspec": {
   "display_name": "Python 3",
   "language": "python",
   "name": "python3"
  },
  "language_info": {
   "codemirror_mode": {
    "name": "ipython",
    "version": 3
   },
   "file_extension": ".py",
   "mimetype": "text/x-python",
   "name": "python",
   "nbconvert_exporter": "python",
   "pygments_lexer": "ipython3",
   "version": "3.7.11"
  }
 },
 "nbformat": 4,
 "nbformat_minor": 4
}
