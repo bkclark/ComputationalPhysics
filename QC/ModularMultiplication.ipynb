{
 "cells": [
  {
   "cell_type": "markdown",
   "metadata": {},
   "source": [
    "# Modular Multiplication"
   ]
  },
  {
   "cell_type": "markdown",
   "metadata": {},
   "source": [
    "As part of Shor's algorithm, we need to perform a controlled version of \n",
    "\n",
    "$U_{x,N}$ which depends on $x$ and $N$ where\n",
    "\n",
    "$$\n",
    "U_{x,N} |y \\rangle = |xy \\textrm{ mod } N \\rangle \\text{ if } y < N\\\\\n",
    "U_{x,N} |y \\rangle = |y \\rangle \\textrm{ if }  y \\geq N\n",
    "$$\n",
    "\n",
    "There exists efficent (i.e. polynomial time) circuits which implement modular multiplication on a quantum computer.  Given such a circuit, it is then straightforward to generate a controlled-version of the gate (simply add a control-wire to each circuit element and decompose back into primitive gates - see the controlled-gate subsection of the univesality page for a more involved discussion of this.)  \n",
    "\n",
    "That said, building this unitary out of H, P, and CNOT is somewhat painful (even arguing it can be done is somewhat painful although see the end of this page).  One option is to find your favorite ECE friend and ask them to build you a reversible classical version of such a circuit out of toffeli gates (which you can then promote to quantum gates).    We will take a different approach here.  \n",
    "\n"
   ]
  },
  {
   "cell_type": "markdown",
   "metadata": {},
   "source": [
    "## Our approach\n",
    "\n",
    "The approach we actually recommend taking is to implement a controlled-classical $xy mod n$ gate into your simulator. \n",
    "\n",
    "They are also reasonably straightforward to implement.\n",
    "\n",
    "**For simulator Ic:**\n",
    "In the previous section you've generated $U_{x,N}$.  It should be straigtforward to add this as a gate in a sparse fasion into your simulator.  Because it acts on a number of wires you just have to be careful to `kron` it against the right number of identities in the correct place.\n",
    "\n",
    "To get the control-$U_{x,N}$ working is a bit trickier.  Essentially you have to figure out what the big unitary matrix for this gate will look like (it will be sparse) and then add it to your simulator.\n",
    "\n",
    "**For simulator II:**\n",
    "Your simulator essentially works by taking basis elements and responding with the new basis element. Since python does modular multiplication this should be just as easy to add as any of the other gates.\n",
    "\n",
    "In your circuit description you  should add\n",
    "```\n",
    "FUNC 4 5 xyModN 2 15\n",
    "```\n",
    "where  the first number is the first wire for the function, the next number is the number of wires for the function (so it works on lines 4,5,6,7,8), the \"xyModN\" is the name of the function in python, and everything after that is parameters to that function (in this case, $x$ and $N$).\n",
    "\n",
    "The ctrl-f should work in the following way\n",
    "\n",
    "```\n",
    "CFUNC 3 4 5 xyModN 2 15\n",
    "```\n",
    "where the first number is the control-bit (like the CNOT), the second number is the first wire for the function, the next number is the number of wires for the function, the \"xyModN\" is the name of the function in python, and everything after that is parameters to that function (in this case, $x$ and $N$).\n",
    "\n",
    "Implement these atomic gates into your simulator.\n",
    "\n",
    "\n",
    ":::{admonition} Grading\n",
    ":class: caution\n",
    "\n",
    "Verify both the normal and controlled versions of xyModN  works by writing (two separate) circuit descriptions that uses them and then checking that it works on those descriptions.\n",
    "\n",
    ":::\n",
    "\n",
    "-----"
   ]
  },
  {
   "cell_type": "markdown",
   "metadata": {},
   "source": [
    "\n",
    ":::{admonition} Extra Credit\n",
    ":class: tip\n",
    "\n",
    "Everything from here to the end of the page is extra credit and not necessary for the rest of the assignment.  This part of the assignment is to get you to understand how you actually implement the \"xy mod n\" gate from primitive gates.\n",
    "\n",
    "You can earn three pieces of extra credit here:\n",
    "\n",
    "* Do everything down to the \"not polished\" section writing code that takes $a$ and $b$ and returns $ab$.  Up to the \"not polished\" section, we have not worried about the modular piece so you don't have to get that correctly working. *I think this is one of the more instructive extra credits to wrap your head around how to do something like multiplication with quantum computers* **5 points extra credit** \n",
    "\n",
    "* I haven't written up the modular piece but you can probably figure it out or look it up.  This will then let you completely replace the gate you made earlier with this improved gate.  **5 points extra credit**\n",
    "\n",
    "* Separately (and able to be done separately), for some system sizes, there is literature introducing very specific custom circuits.  You can implement the circuit in the paper in the \"In practice\" section and run it as part of your emulator for that system size.  **5 points extra credit**\n",
    "\n",
    ":::\n",
    "\n"
   ]
  },
  {
   "cell_type": "markdown",
   "metadata": {},
   "source": [
    "## Making Modular Multiplication out of Primitive Gates"
   ]
  },
  {
   "cell_type": "markdown",
   "metadata": {},
   "source": [
    "In this section, we are going to discuss how to get (or at least argue you can get) modular multiplication out of primitive gates.  \n",
    "\n"
   ]
  },
  {
   "cell_type": "markdown",
   "metadata": {},
   "source": [
    "### Attempt 1"
   ]
  },
  {
   "cell_type": "markdown",
   "metadata": {},
   "source": [
    "We have learned that (see the section in this book on \"Classical Gates\") there is a general procedure which compiles a python function which takes $x$ and gives back $f(x)$ in time $O(T)$ and generates a quantum circuit $U$ such that \n",
    "\n",
    "$$U|x\\rangle |0\\rangle \\rightarrow |x\\rangle |f(x)\\rangle$$\n",
    "\n",
    "which works in time $O(T \\log T)$ which takes (and uses some extra ancilla it returns).  This is a super-useful primitive in general but doesn't work here.  Keeping the $|x\\rangle$ around as part of the output is problematic.  The fact that it might be avoidable comes from the fact that the target $U$ is reversible when $x$ and $N$ are coprime. "
   ]
  },
  {
   "cell_type": "markdown",
   "metadata": {},
   "source": [
    "### Addition (with a classical b)"
   ]
  },
  {
   "cell_type": "markdown",
   "metadata": {},
   "source": [
    "The first step on our quest is to figure out how to do addition. Let's start off with taking $|a\\rangle$ and adding a fixed classical $b$ (i.e. our circuit can depend on what $b$ is).\n",
    "\n",
    "![](classicalAdd.png)\n",
    "\n",
    "\n",
    "\n",
    ":::{admonition} Grading\n",
    ":class: caution\n",
    "\n",
    "Write a python function that takes $b$ and outputs the circuit which takes \n",
    "$|a\\rangle \\rightarrow |a+b\\rangle$.   The circuit will begin with a quantum fourier transform and ends with an inverse quantum fourier transform.  To figure out what to do in the intermediate area, work out the state after the first QFT.\n",
    "\n",
    "*Hint:* Think about what you can do with phase gates.\n",
    "\n",
    "You only need to get the addition working for $a+b$ which is smaller then $2^{wires}-1$.\n",
    "\n",
    "\n",
    "![](images/classicalAdd.png)\n",
    "\n",
    "Test your function by running your circuit through your emulator and make sure that you get the correct results. \n",
    "\n",
    ":::\n",
    "\n",
    "\n"
   ]
  },
  {
   "cell_type": "markdown",
   "metadata": {},
   "source": [
    ":::{admonition} Grading\n",
    ":class: caution\n",
    "\n",
    "Now that you have this working, let's check two things:\n",
    "\n",
    "* What happens if you add two numbers $a$ and $b$ which give a number larger then $2^{wires}$? \n",
    "\n",
    "* What happens if you run your circuit backwards?  \n",
    "\n",
    "Answer these two questions and add them your document.\n",
    "\n",
    ":::"
   ]
  },
  {
   "cell_type": "markdown",
   "metadata": {},
   "source": [
    "### Addition (with two quantum inputs)"
   ]
  },
  {
   "cell_type": "markdown",
   "metadata": {},
   "source": [
    "Our next step is to do arithmetic with two quantum inputs.  In particular,\n",
    "\n",
    "\n",
    "$$|a\\rangle |b\\rangle \\rightarrow |a\\rangle |a+b \\rangle$$\n",
    "\n",
    "This isn't much harder then what you've already done. Now instead of your python programming outputing gates you have to \"control\" those gates based on the top wires. \n",
    "\n",
    ":::{admonition} Grading\n",
    ":class: caution\n",
    "\n",
    "Write python code that takes the number of bits in $a$ and $b$ and outputs a circuit which adds $a$ and $b$ (again only needing to be correct on values of $a+b$ which fit in the size of $b$\n",
    "\n",
    "![](images/quantumAdd.png)\n",
    "\n",
    "\n",
    "Again, also comment on what happens if you want to add numbers that are too big and if you run your code backwards.\n",
    "\n",
    ":::\n"
   ]
  },
  {
   "cell_type": "markdown",
   "metadata": {},
   "source": [
    "### Multiplication by a classical $b$"
   ]
  },
  {
   "cell_type": "markdown",
   "metadata": {},
   "source": [
    "Suppose we want a unitary matrix that takes $U_b|a\\rangle \\rightarrow |ab\\rangle$. There's a simple algorithm which does this in time $O(b)$; simply add $a$ to your register $b$ times.  We would prefer to have an algorithm that works in time $O(\\log(b))$.  \n",
    "\n",
    "To accomplish this, we will use the fact that we can write $b=\\sum_ i 2^i b_i$ and that multiplying by $2^{i}$ is reasonably straightforward. \n",
    "\n",
    "Use the following general approach:\n",
    "* Copy $a$ once for each $i$ (i.e. $\\log(b)$ times). \n",
    "* Multiply the i'th copy of $a$ by $2^{i}$.  Notice that this largely involves swapping around wires. \n",
    "* Add up all the copies.  \n",
    "* Copy the answer to a new register.\n",
    "* Figure out how to uncompute everything you've done so far by running essentially all of it backwards (this is essential to returning all the wires in a zero state so we can use them again).\n",
    "\n",
    "\n",
    ":::{admonition} Grading\n",
    ":class: caution\n",
    "\n",
    "Write a python code which takes a number b and produces a quantum circuit which generates $U_b|a\\rangle \\rightarrow |ab\\rangle$ \n",
    "\n",
    ":::\n"
   ]
  },
  {
   "cell_type": "markdown",
   "metadata": {},
   "source": [
    "### Multiplication by a quantum $b$\n",
    "\n",
    ":::{admonition} Grading\n",
    ":class: caution\n",
    "\n",
    "Now you want to modify this code to take as input $|b\\rangle$ and $|a\\rangle$ and output $|ba\\rangle$.  Essentially you are going to do the same thing as previously but now you want to control over the right wires of $b$.\n",
    "\n",
    ":::"
   ]
  },
  {
   "cell_type": "markdown",
   "metadata": {},
   "source": [
    ":::{warning}\n",
    "\n",
    "This section below here is not yet finished/polished. \n",
    "\n",
    ":::"
   ]
  },
  {
   "cell_type": "markdown",
   "metadata": {},
   "source": [
    "### Putting the modular back in addition. \n",
    "\n",
    "At the end of the day, we were attempting to get $|xy (mod N)\\rangle$ but have so far avoiding dealing with the mod $N$ component. You need to know figure out how to put the modular part of the modular arithmetic back in. \n"
   ]
  },
  {
   "cell_type": "markdown",
   "metadata": {},
   "source": [
    "--- "
   ]
  },
  {
   "cell_type": "markdown",
   "metadata": {},
   "source": [
    "### In Practice"
   ]
  },
  {
   "cell_type": "markdown",
   "metadata": {},
   "source": [
    "We have shown in principle that one could do this. In practice, often for specific values of $N$ and specific system sizes one can do better.  For example, check out [https://arxiv.org/abs/1202.6614](here).\n",
    "\n",
    "\n",
    "\n"
   ]
  },
  {
   "cell_type": "code",
   "execution_count": null,
   "metadata": {},
   "outputs": [],
   "source": []
  }
 ],
 "metadata": {
  "kernelspec": {
   "display_name": "Python 3",
   "language": "python",
   "name": "python3"
  },
  "language_info": {
   "codemirror_mode": {
    "name": "ipython",
    "version": 3
   },
   "file_extension": ".py",
   "mimetype": "text/x-python",
   "name": "python",
   "nbconvert_exporter": "python",
   "pygments_lexer": "ipython3",
   "version": "3.8.3"
  }
 },
 "nbformat": 4,
 "nbformat_minor": 4
}
