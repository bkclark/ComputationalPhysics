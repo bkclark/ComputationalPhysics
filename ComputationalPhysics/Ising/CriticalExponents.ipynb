{
 "cells": [
  {
   "cell_type": "markdown",
   "metadata": {},
   "source": [
    "# Critical Exponents"
   ]
  },
  {
   "cell_type": "code",
   "execution_count": null,
   "metadata": {
    "collapsed": true
   },
   "outputs": [],
   "source": []
  },
  {
   "cell_type": "markdown",
   "metadata": {},
   "source": [
    "In the section on the renormalization group, we computed a single exponent, $\\nu$, using the renormalization group.  Here we will go ahead and compute some of the critical exponents for the Ising model in a more straightforward fasion without RG. Any critical points that have the same set of critical exponents belong to the same universality class.  \n"
   ]
  },
  {
   "cell_type": "markdown",
   "metadata": {},
   "source": [
    "The critical exponents that you will compute in this section are:\n",
    "\n",
    "**Order Paramater:** $\\beta$ (different from inverse temperature - sorry this is universal nomenclature):\n",
    "To compute $\\beta$, we look at how the magnetization scales as we approach the transition - i.e. \n",
    "\n",
    "$$\\langle M \\rangle = \\left( \\frac{T-T_c}{T_c}\\right)^\\beta $$\n",
    "\n",
    "In principle, $\\langle M \\rangle$ is always equal to zero at zero magnetic field because of the symmetry between up and down.  In practice, this is very unlikely to be a problem in your simulation as long as your system is large enough - while formally you should see this, in practice you're not going to see all the spin-up go ahead and flip to spin-down (avoid using a fancy algorithm like a cluster-move). \n",
    "\n",
    "\n",
    "Then go ahead and plot $\\log \\langle M(T) \\rangle$ vs $\\log(1-T/T_c)$ (you can go ahead and look up $T_c$.  Fit this curve at low $T$ (i.e. where the x-axis is close to negative infinity).  You should find that $\\beta ~ 1/8$.  You probably need to run a fair number of points near the transition to get something reasonable here. \n",
    "\n",
    "\n",
    "(I think but I'm not sure that you can use $\\langle M^2 \\rangle$ and get $2\\beta$.)"
   ]
  },
  {
   "cell_type": "markdown",
   "metadata": {},
   "source": [
    "**Magnetic Suscpetibility**\n",
    "\n",
    "Another thing that you can compute is the magnetic susceptibility \n",
    "\n",
    "$\\chi = \n"
   ]
  },
  {
   "cell_type": "markdown",
   "metadata": {},
   "source": [
    "We've learned that under an RG flow, phases typically flow to their prototypical form - i.e. independent of the microscopic details they are universal.   We could ask whether there is an analogous thing that happens for phase transitions.  In fact, there is.  The property to look at for phase transitions is to examine how various quantities scale as we approach the phase transition.  In the ferromagnetic transition one thing we could look at is how the magnetization scales as we approach the transition - i.e.\n",
    "\n",
    "$$\\langle M \\rangle = \\left( \\frac{T-T_c}{T_c}\\right)^\\beta $\n",
    "\n",
    "$\\beta$ (different from inverse temperature - sorry this is universal nomenclature) is called a critical exponent and its value is universal over a wide range of models and materials. For three-dimensional ferromagnets, we expect to see $\\beta~0.327$.   In fact, it's not just in ferromagnets where we find an exponent of 0.237.  Consider instead the transition between a liquid and a gas.  Under such a transition, the order-parameter or thing that that specifies the transition is a change of density - i.e. at fixed pressure consider $\\rho_+(T) - \\rho_-(T)$ on the coexistence curve.  We can also look at\n",
    "\n",
    "$$\\rho_+(T)-\\rho_-(T) = (T-T_c)^{-\\beta}$$\n",
    "and find again (for real materials) that $\\beta ~ 0.211$ - a very similar exponent.  \n",
    "\n",
    "Naively this is interesting...\n",
    "\n",
    "The critical points are universal. "
   ]
  }
 ],
 "metadata": {
  "kernelspec": {
   "display_name": "Python 3",
   "language": "python",
   "name": "python3"
  },
  "language_info": {
   "codemirror_mode": {
    "name": "ipython",
    "version": 3
   },
   "file_extension": ".py",
   "mimetype": "text/x-python",
   "name": "python",
   "nbconvert_exporter": "python",
   "pygments_lexer": "ipython3",
   "version": "3.8.3"
  },
  "varInspector": {
   "cols": {
    "lenName": 16,
    "lenType": 16,
    "lenVar": 40
   },
   "kernels_config": {
    "python": {
     "delete_cmd_postfix": "",
     "delete_cmd_prefix": "del ",
     "library": "var_list.py",
     "varRefreshCmd": "print(var_dic_list())"
    },
    "r": {
     "delete_cmd_postfix": ") ",
     "delete_cmd_prefix": "rm(",
     "library": "var_list.r",
     "varRefreshCmd": "cat(var_dic_list()) "
    }
   },
   "types_to_exclude": [
    "module",
    "function",
    "builtin_function_or_method",
    "instance",
    "_Feature"
   ],
   "window_display": false
  }
 },
 "nbformat": 4,
 "nbformat_minor": 2
}
