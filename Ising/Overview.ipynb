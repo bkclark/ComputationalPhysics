{
 "cells": [
  {
   "cell_type": "markdown",
   "metadata": {},
   "source": [
    "# Overview"
   ]
  },
  {
   "cell_type": "markdown",
   "metadata": {},
   "source": [
    "Template for Solution Document: https://docs.google.com/document/d/1LRtMKRAzp9Ov8_vFMkPbNbUwGrQ7v2X0Z0uHd4t0ttk/edit?usp=sharing\n",
    "\n",
    "\n",
    "Our goal in this section is to understand the renormalization group.  The renormalization group answers the question: **How do the rules of the universe change when you look at in a coarse-grain way** (i.e. you don't have your glasses on so  you can't see all the tiny details).\n",
    "\n",
    "Three aspects the renormalization group helps us understand:\n",
    "\n",
    "* Why do the rules of the universe look simple?  Have you ever wondered why you can compute properties of an atom without knowing quantum chromo-dynamics.  It's because when we probe quarks, the rules of the universe are controlled by quantum chromo-dynamics.  But, when we probe atoms, the rules which are relevant at this level *renormalize.*  They are simpler.\n",
    "\n",
    "* A more sophisticated understanding of phases.  Lots of different physics all result in the same phase; for example, there are many liquids in the world.  How is it we identify all these phases as the same thing.  At the microscopic level, these phases all look very different. Once we renormalize, though, looking at things through a coarse-grained view, the phases all appear to be the same.\n",
    "\n",
    "* A more sophisticated understanding of the critical point.  Between two phases there is a critical point.  If we coarse-grain that critical point we find that all critical points flow to a finite numbner of such points."
   ]
  },
  {
   "cell_type": "markdown",
   "metadata": {},
   "source": [
    "**Your renormalization group assignment will consist of three pages (1 per week)**\n",
    "\n",
    "- Part I: Develop an Ising Model Simulation (33 points)\n",
    "- Part II: Measuring the Ising Model  (33 points)\n",
    "- Part III: The Renormalization Group (34 points)\n",
    "- Extra Credit: Parallel Tempering\n"
   ]
  },
  {
   "cell_type": "markdown",
   "metadata": {},
   "source": [
    "\n",
    "## References\n",
    "*    Wikipedia articles on [the Ising model](https://en.wikipedia.org/wiki/Square-lattice_Ising_model), [the renormalization group](https://en.wikipedia.org/wiki/Renormalization_group), and [the critical exponents of the Ising model](https://en.wikipedia.org/wiki/Ising_critical_exponents).\n",
    "*    Wikipedia articles on [Markov chains](https://en.wikipedia.org/wiki/Markov_chain), [Markov chain Monte Carlo](https://en.wikipedia.org/wiki/Markov_chain_Monte_Carlo), and [the Metropolis algorithm](https://en.wikipedia.org/wiki/Metropolis%E2%80%93Hastings_algorithm).\n",
    "*    \"Lectures on Phase Transitions and the Renormalization Group\" by Nigel Goldenfeld is an advanced textbook that covers the Ising model and the Renormalization group.\n"
   ]
  },
  {
   "cell_type": "markdown",
   "metadata": {},
   "source": [
    "----"
   ]
  },
  {
   "cell_type": "markdown",
   "metadata": {},
   "source": [
    "## Extensions\n",
    "\n",
    "The extensions here are not part of the assignment (and not currently extra credit).  If you're interested in learning more about statistical mechanics and the Ising model looking up the general topics below is a good place to start. \n",
    "\n",
    "- Compute more Properties of the Ising Model (i.e Binder Cumulant, etc.)\n",
    "- Understanding better the stationary distribution of Markov chains/\n",
    "\n",
    "### More RG\n",
    "- Compute the critical exponents for other models in the same universality class.\n",
    "- Compute critical exponents using numerical RG\n",
    "- Implement tensor network renormalization\n",
    "\n",
    "\n",
    "### Optimization\n",
    "- Simulated Annealing\n",
    "- Adiabatic Quantum Computing\n",
    "\n",
    "### Ergodic Problems\n",
    "- Cluster Moves\n",
    "- Parallel Tempering\n",
    "- Gibbs Sampling\n",
    "- Worm Moves\n",
    "\n",
    "### Other things\n",
    "- Inverse Methods\n",
    "- Coupling from the past"
   ]
  },
  {
   "cell_type": "code",
   "execution_count": null,
   "metadata": {},
   "outputs": [],
   "source": []
  }
 ],
 "metadata": {
  "kernelspec": {
   "display_name": "Python 3",
   "language": "python",
   "name": "python3"
  },
  "language_info": {
   "codemirror_mode": {
    "name": "ipython",
    "version": 3
   },
   "file_extension": ".py",
   "mimetype": "text/x-python",
   "name": "python",
   "nbconvert_exporter": "python",
   "pygments_lexer": "ipython3",
   "version": "3.8.3"
  }
 },
 "nbformat": 4,
 "nbformat_minor": 4
}
