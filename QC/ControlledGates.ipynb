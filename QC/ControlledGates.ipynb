{
 "cells": [
  {
   "cell_type": "markdown",
   "metadata": {},
   "source": [
    "# Controlled Gates"
   ]
  },
  {
   "cell_type": "markdown",
   "metadata": {},
   "source": [
    ":::{warning}\n",
    "\n",
    "This page is not yet finished/polished. \n",
    "\n",
    ":::"
   ]
  },
  {
   "cell_type": "markdown",
   "metadata": {},
   "source": [
    "We would like to be able to take the control of an arbitrary unitary.  "
   ]
  },
  {
   "cell_type": "markdown",
   "metadata": {},
   "source": [
    "We want to be able to take any unitary $U$ represented as a circuit and be able to add a control to it giving us a control-U.  In some sense, this is easy.  Our circuit can be decomposed into H, P, and CNOT gates.  We can simply add a control wire to each of these gates giving us a set of control-H, control-phase, and control-CNOT gates.  The only trick is to then re-decompose each of these into H, P, and CNOT gates.  \n",
    "\n",
    "We have already seen how to decompose a control-phase gate into our atomic gates.  We know just need to figure out how to decompose a ctonrol-H and a control-CNOT.  "
   ]
  },
  {
   "cell_type": "markdown",
   "metadata": {},
   "source": [
    ":::{admonition} Extra Credit\n",
    ":class: tip\n",
    "\n",
    "Everything on this page is extra credit and not necessary for the rest of the assignment \n",
    "\n",
    ":::"
   ]
  },
  {
   "cell_type": "markdown",
   "metadata": {},
   "source": [
    "## Control-H \n",
    "\n",
    "\n",
    ":::{admonition} Grading\n",
    ":class: caution\n",
    "\n",
    "Decompose a control-H gate into atomic gates. \n",
    "\n",
    ":::"
   ]
  },
  {
   "cell_type": "markdown",
   "metadata": {},
   "source": [
    "## Control-control not (i.e. toffeli)\n",
    "\n",
    "The second gate that we are going to use is a controlled-CNOT also known as a controlled-controlled-not (CCNOT) or a toffeli. \n",
    "\n",
    "The CCNOT gate does what you expect;  if both the controls are 1 then the not gate happens. Otherwise nothing happens. \n",
    "\n",
    "This gate is very useful for various reasons including the fact that it makes for a universal reversible gate.  \n",
    "\n",
    "Show that\n",
    "![](images/toffeli.png)\n",
    "\n",
    "where\n",
    "\n",
    "$$\n",
    "V=\\begin{bmatrix}\n",
    "1 & 0  \\\\\n",
    "0 & i\n",
    "\\end{bmatrix}\n",
    "$$\n",
    "(how do you get this matrix from the universal circuit element?) breaks the CCNOT down into universal gates.  One way to show this is to build it into your simulator and then show it does the correct thing on all 8 basis elements. \n",
    "\n",
    "Add it to your preprocessor using\n",
    "\n",
    "```\n",
    "tofelli 2 3 5\n",
    "```\n",
    "where the first two numbers are the wires for the control and the last wire is the wire for the not. Tofelli circuits are universal for (reversible) classical computing.  This means that any classical function you have can be written with just tofelli (and anything written with just tofelli can be simulated classically - *you can see the section on classical gates to see why this is?* \n"
   ]
  },
  {
   "cell_type": "markdown",
   "metadata": {},
   "source": [
    "## Control (many wires) not (and arbitrary unitaries)\n",
    "\n",
    "So far you have been \n",
    "\n",
    "* It's (relatively) easy to do if you let me double the wires.\n",
    "* It's (relatively) easy to do it if with any extra wires (ancilla) you let the number of gates explode exponentially with the number of control bits,\n",
    "* Neilson and Chuang have a question that says to do it without any extra wires (ancilla) using a number of gates that is quadratic.\n",
    "* [Here](https://cs.stackexchange.com/questions/40933/creating-bigger-controlled-nots-from-single-qubit-toffoli-and-cnot-gates-with) claims you can do it with a linear number of gates.\n"
   ]
  }
 ],
 "metadata": {
  "kernelspec": {
   "display_name": "Python 3",
   "language": "python",
   "name": "python3"
  },
  "language_info": {
   "codemirror_mode": {
    "name": "ipython",
    "version": 3
   },
   "file_extension": ".py",
   "mimetype": "text/x-python",
   "name": "python",
   "nbconvert_exporter": "python",
   "pygments_lexer": "ipython3",
   "version": "3.8.3"
  }
 },
 "nbformat": 4,
 "nbformat_minor": 4
}
