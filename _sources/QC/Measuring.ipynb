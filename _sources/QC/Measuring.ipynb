{
 "cells": [
  {
   "cell_type": "markdown",
   "metadata": {},
   "source": [
    "# Measuring and Input"
   ]
  },
  {
   "cell_type": "markdown",
   "metadata": {},
   "source": [
    "## Measuring\n",
    "\n",
    "So far you've implemented a number of simulators which take a quantum state as input and output a quantum state.  This is how a quanutm computer works *except* you don't ever actually get to look at the output state in the real world.  Instead, at the end of a computation, you are forced to measure your state.  This measurement gives us a single bit string (integer) from your state;  if you're state is $\\sum_i \\alpha_i |i\\rangle$ you end up seeing state $|i\\rangle$ with probability $|\\alpha_i|^2$.  Notice that this is a stochastic result - every time you run, you end up (potentially) getting a different measurement. \n",
    "\n",
    "Modify your simulator(s) so that if the final line of the text description is a MEASURE - i.e. something like\n",
    "```\n",
    "2\n",
    "H 0\n",
    "CNOT 0 1\n",
    "MEASURE\n",
    "```\n",
    "\n",
    "your simulator(s) output a single bit-string with the correct probabilities.  You can check this by running without measure and then running with measure and showing that your probability distribution corresponds to the amplitude squared. \n",
    "\n",
    ":::{admonition} Grading\n",
    ":class: caution\n",
    "\n",
    "Get your simulators to perform measurement.  Run your circuit 1000 times and show that the probability distribution that you get out of the measurement corresponds to the correct one on the following circuit: \n",
    "\n",
    "* {download}`measure.circuit`\n",
    "\n",
    ":::"
   ]
  },
  {
   "cell_type": "markdown",
   "metadata": {},
   "source": [
    "\n",
    "## Input\n",
    "\n",
    "By default we will assume that the input to your quantum circuit is the state $|00..0\\rangle$.  Often (especially for testing purposes) you'll want to be able to put in another input though.  To do this, we will use a line like\n",
    "\n",
    "```\n",
    "INITSTATE FILE myInputState.txt\n",
    "```\n",
    "\n",
    "where `myInputState.txt` will be a file with $2^n$ complex numbers in it like such:\n",
    "\n",
    "```\n",
    "0.0 -0.0\n",
    "0.0 -0.0\n",
    "0.0 -0.0\n",
    "0.0 -0.7071\n",
    "0.0 -0.0\n",
    "0.0 -0.0\n",
    "0.7071 0.0\n",
    "0.0 -0.0\n",
    "```\n",
    "\n",
    "for the state $\\frac{1}{\\sqrt{2}} \\left( -i |3\\rangle + |6 \\rangle\\right)$\n",
    "\n",
    "In addition to getting input to work this way, you should be able to read input like \n",
    "```\n",
    "INITSTATE BASIS |001>\n",
    "```\n",
    "\n",
    "which starts your input in the basis $|1\\rangle$.  \n",
    "\n",
    "\n",
    "\n",
    "\n",
    ":::{admonition} Grading\n",
    ":class: caution\n",
    "\n",
    "Get your simulator(s) to perform these two different types of input.  To test this, go ahead and run the following circuits\n",
    "\n",
    "**Tests:**\n",
    "\n",
    "* {download}`input.circuit`\n",
    "    * {download}`myInputState.txt`\n",
    "\n",
    "\n",
    ":::\n"
   ]
  },
  {
   "cell_type": "code",
   "execution_count": null,
   "metadata": {},
   "outputs": [],
   "source": []
  }
 ],
 "metadata": {
  "kernelspec": {
   "display_name": "Python 3",
   "language": "python",
   "name": "python3"
  },
  "language_info": {
   "codemirror_mode": {
    "name": "ipython",
    "version": 3
   },
   "file_extension": ".py",
   "mimetype": "text/x-python",
   "name": "python",
   "nbconvert_exporter": "python",
   "pygments_lexer": "ipython3",
   "version": "3.8.3"
  },
  "vscode": {
   "interpreter": {
    "hash": "31f2aee4e71d21fbe5cf8b01ff0e069b9275f58929596ceb00d14d90e3e16cd6"
   }
  }
 },
 "nbformat": 4,
 "nbformat_minor": 2
}
