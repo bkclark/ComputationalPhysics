{
 "cells": [
  {
   "cell_type": "markdown",
   "metadata": {},
   "source": [
    "# Shor's Algorithm\n",
    "\n",
    "You now have all the pieces for Shor's algorithm. You have code that generates phase estimation for an arbitrary unitary and you have a unitary ($xy \\textrm{ mod } N)$ whose eigenvalues give you the period you are looking for.\n",
    "\n",
    "You just need to put them both together.\n",
    "\n",
    "![](images/shor.png)\n",
    "![](images/shor2.png)\n",
    "\n",
    "A couple comments:\n",
    "\n",
    "* If $n=\\lceil \\log_2(N) \\rceil$ then you need $2n+1$ (not sure about the plus 1) bits of accuracy for the phase to have the continuing fractions algorithm guarantee that it gives you the correct thing.\n",
    "\n",
    "* You're going to want to debug by first eating an eigenvector $\\Psi_j$ on the blue wires.  After you have this working you can use a general state. A good choice is $|00...0001\\rangle$ which has an equal overlap with every eigenstate! (understand why this is).  This gaurantees that you can't end up on a bad eigenstate with a phase that doesn't work too often.\n",
    "\n",
    ":::{admonition} Grading\n",
    ":class: caution\n",
    "\n",
    "Show that your quantum computer factors!\n",
    "\n",
    ":::\n",
    "\n",
    "\n",
    "---\n",
    "\n",
    "### Improving Shor's algorithm\n",
    "\n",
    "There's one more major thing we need to worry about. We wrote this classical simulator but didn't yet think too hard about how fast the algorithm is.  Have your code generate circuit descriptions for large values of $N$ (don't try to run them through your simulator).  Graph how quickly these grow with $N.$  Is this good enough?  If not, how do we fix it?\n",
    "\n",
    ":::{admonition} Grading\n",
    ":class: caution\n",
    "\n",
    "Show that your simulator runs faster with the sped-up version.\n",
    "\n",
    ":::\n",
    "\n",
    "**Congratulations:** You now have a simulator that simulates Shor's algorithm.\n",
    "\n"
   ]
  },
  {
   "cell_type": "code",
   "execution_count": null,
   "metadata": {},
   "outputs": [],
   "source": []
  }
 ],
 "metadata": {
  "kernelspec": {
   "display_name": "Python 3",
   "language": "python",
   "name": "python3"
  },
  "language_info": {
   "codemirror_mode": {
    "name": "ipython",
    "version": 3
   },
   "file_extension": ".py",
   "mimetype": "text/x-python",
   "name": "python",
   "nbconvert_exporter": "python",
   "pygments_lexer": "ipython3",
   "version": "3.7.11"
  }
 },
 "nbformat": 4,
 "nbformat_minor": 4
}
