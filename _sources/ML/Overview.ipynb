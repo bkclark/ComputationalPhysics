{
 "cells": [
  {
   "cell_type": "markdown",
   "metadata": {},
   "source": [
    "# Overview \n",
    "\n",
    "Perhaps the most interesting emergent phenomena in nature are the functions of the brain. You start with what is essentially a bunch of neurons and you end up with a thinking thing. We will try to get a feel for how this is possible by examining simple models of learning based on computational analogues of physical neurons.\n",
    "\n",
    "**Template For Solutions: ** https://docs.google.com/document/d/14-3JKGK7AHgH68CTd0TJkSYQnlGBapsy9xLeYhiU00I/edit?usp=sharing\n",
    "\n",
    "Computational models of neurons are known as **artificial neural networks**, or sometimes just *neural nets*. While neural nets are grossly simplified models of the brain, they have become useful tools in computer science, engineering, and science to solve a variety of interesting and challenging problems. In this unit, we will look at three artificial neural networks in our investigation of learning.\n",
    "\n",
    "**This assignment has 175 possible points but is graded out of 100**\n",
    "\n",
    "\n",
    "* [1. Hopfield Networks](1-Hopfield.html) (*50% of the grade*)\n",
    "    - The Hopfield network is a simple artificial neural network designed by physicist John Hopfield to model how neurons memorize information. We will explore the ability of Hopfield networks to memorize simple images.\n",
    "*  [2. Restricted Boltzmann Machines](2-RBM.html)  (*50% of the grade*)\n",
    "    - The restricted Boltzmann machine (RBM) is a statistical physics-inspired neural net that is able to learn complicated probability distributions. We will demonstrate how to use this physics-inspired tool in engineering contexts by training an RBM to learn hand-written digits.\n",
    "* [3. Diffusion Models - page 1](Diffusion.ipynb) (*50% of the grade*)\n",
    "    * [3.2 Diffusion Models - page 2](Diffusion2.ipynb) (*25% of the grade*)\n",
    "    \n",
    "\n",
    "------\n",
    "\n",
    "<!--\n",
    "\n",
    "*Extra Credit:* 25%\n",
    "* [Feedforward Neural Networks](3-NN.html)\n",
    "    - The feedforward neural network is a widely popular neural network used in the deep learning community to do supervised learning. For example, such neural nets can be trained to identify faces in images. We will apply this machine learning tool to study a physics problem: identifying phase transitions in the Ising model.\n",
    "\n",
    "-->"
   ]
  },
  {
   "cell_type": "code",
   "execution_count": null,
   "metadata": {},
   "outputs": [],
   "source": []
  }
 ],
 "metadata": {
  "kernelspec": {
   "display_name": "Python 3",
   "language": "python",
   "name": "python3"
  },
  "language_info": {
   "codemirror_mode": {
    "name": "ipython",
    "version": 3
   },
   "file_extension": ".py",
   "mimetype": "text/x-python",
   "name": "python",
   "nbconvert_exporter": "python",
   "pygments_lexer": "ipython3",
   "version": "3.8.3"
  }
 },
 "nbformat": 4,
 "nbformat_minor": 4
}
