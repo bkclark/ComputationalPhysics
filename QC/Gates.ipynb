{
 "cells": [
  {
   "cell_type": "markdown",
   "metadata": {},
   "source": [
    "# Gates"
   ]
  },
  {
   "cell_type": "markdown",
   "metadata": {},
   "source": [
    "In this section, we are going to learn some additional aspects about gates:\n",
    "\n",
    "* Taking a circuit made out of unitary and figure out how to make a controlled-version of that circuit (decomposed back into H, P, and CNOT gates).\n",
    "\n",
    "* Take an arbitrary classical function and build a quantum circuit which implements that function.\n",
    "\n",
    "* Take an arbitrary unitary and decompose it into a universal gate set. "
   ]
  }
 ],
 "metadata": {
  "kernelspec": {
   "display_name": "Python 3",
   "language": "python",
   "name": "python3"
  },
  "language_info": {
   "codemirror_mode": {
    "name": "ipython",
    "version": 3
   },
   "file_extension": ".py",
   "mimetype": "text/x-python",
   "name": "python",
   "nbconvert_exporter": "python",
   "pygments_lexer": "ipython3",
   "version": "3.8.3"
  }
 },
 "nbformat": 4,
 "nbformat_minor": 4
}
