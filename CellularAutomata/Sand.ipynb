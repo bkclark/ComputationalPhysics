{
 "cells": [
  {
   "cell_type": "markdown",
   "id": "ac7818ed",
   "metadata": {},
   "source": [
    "# Sand"
   ]
  },
  {
   "cell_type": "markdown",
   "id": "2f8fde5d",
   "metadata": {},
   "source": [
    ":::{admonition} Extra Credit \n",
    ":class: tip\n",
    "\n",
    "This page is **10 points extra credit**\n",
    "\n",
    ":::"
   ]
  },
  {
   "cell_type": "markdown",
   "id": "221b2930",
   "metadata": {},
   "source": [
    "On this page you will simulate a model of sand building up on a table (and the resulting avalanches that it causes).\n",
    "\n",
    "In this model, sand will be placed on a table which has $N \\times N$ spaces for granules of sand.  The granules of sand can be stacked up into columns.  Once a column becomes larger then $k$ granules high, 4 granules of sand slide off the pile with one granule ending up on each of the four neighbors.  If the column of sand is on the edge of the table without four neighbors it still ends up with 4 less pieces of sand;  the extra sand just falls off the table.\n",
    "\n",
    "For the first part of this problem, we are going to have sand rain from the sky onto random spots on the table.  \n",
    "\n",
    "This gives us essentially a cellular automata with four rules:\n",
    "* Choose a random spot on the table and add a new piece of sand\n",
    "* While some column of sand has more then $k$ pieces: \n",
    "    * choose a random such column and replace it with $k-4$ pieces of sand and increase the sand on each of its neighbors by one. \n",
    "\n",
    "\n",
    "This is not only a cellular automata but also a markov chain (the probability of a new configuration is independent of anything but the current configuration).\n",
    "\n",
    "Write a simulation which performs this cellular automata. Use $N=25$ and $k=4$.\n",
    "\n",
    "\n",
    ":::{admonition} Grading\n",
    ":class: caution\n",
    "\n",
    "Measure the following two properties using a [window averaging](https://en.wikipedia.org/wiki/Moving_average) of 100 steps:\n",
    "* the number of pieces of sand as a function of time. \n",
    "* the size of each avalanch as a function fo time. \n",
    "* a snapshot of the sand in equilibrium (i.e. after 2000 steps).\n",
    "\n",
    "\n",
    "::: \n",
    "\n",
    "You should get results that look something like this:\n",
    "\n",
    "![sand1.png](images/sand1.png)\n",
    "\n"
   ]
  },
  {
   "cell_type": "markdown",
   "id": "41def6da",
   "metadata": {},
   "source": []
  },
  {
   "cell_type": "markdown",
   "id": "d60a55e5",
   "metadata": {},
   "source": [
    "\n",
    ":::{admonition} Grading\n",
    ":class: caution\n",
    "\n",
    "\n",
    "Also choose a single prototype avalanch (preferably a large one) and visualize it. \n",
    "\n",
    ":::\n",
    "\n",
    "You should see something like this\n"
   ]
  },
  {
   "cell_type": "markdown",
   "id": "71baa730",
   "metadata": {},
   "source": [
    "![sand2.png](images/sand2.png)"
   ]
  },
  {
   "cell_type": "markdown",
   "id": "3bdf694d",
   "metadata": {},
   "source": [
    "(it would be fun to turn this into a video - it shouldn't be too hard if you look up how animations work in pylab)"
   ]
  },
  {
   "cell_type": "markdown",
   "id": "81c1f33e",
   "metadata": {},
   "source": [
    "The number of avalanches actually follow a power law - i.e. the probability of an avalanch goes as $s^{-b}$ where $s$ is the size of the avalanch.  You should attempt to figure out the exponent $b$. The trick to do this is to look at the size $s$ versus the number of such avalanches on a log-log plot. The slope will be $-b$.  \n",
    "\n",
    "My graph looks like this:\n",
    "\n",
    "![sand3.png](images/sand3.png)"
   ]
  },
  {
   "cell_type": "markdown",
   "id": "5e9dc5ec",
   "metadata": {},
   "source": [
    ":::{admonition} Grading\n",
    ":class: caution\n",
    "\n",
    "Produce this plot and compute $b$\n",
    "\n",
    ":::"
   ]
  },
  {
   "cell_type": "markdown",
   "id": "dd77e569",
   "metadata": {},
   "source": [
    "While not graded, you can also go ahead and do this for 1-dimension instead of 2-dimensions."
   ]
  },
  {
   "cell_type": "code",
   "execution_count": null,
   "id": "96781578",
   "metadata": {},
   "outputs": [],
   "source": []
  }
 ],
 "metadata": {
  "kernelspec": {
   "display_name": "Python 3 (ipykernel)",
   "language": "python",
   "name": "python3"
  },
  "language_info": {
   "codemirror_mode": {
    "name": "ipython",
    "version": 3
   },
   "file_extension": ".py",
   "mimetype": "text/x-python",
   "name": "python",
   "nbconvert_exporter": "python",
   "pygments_lexer": "ipython3",
   "version": "3.9.6"
  }
 },
 "nbformat": 4,
 "nbformat_minor": 5
}
